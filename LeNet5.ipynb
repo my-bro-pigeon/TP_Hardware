{
 "cells": [
  {
   "cell_type": "code",
   "execution_count": 1,
   "id": "a490f7a0-cb6d-4048-87e6-3fa66ee45232",
   "metadata": {},
   "outputs": [
    {
     "name": "stderr",
     "output_type": "stream",
     "text": [
      "2023-12-29 12:18:14.292806: I external/local_tsl/tsl/cuda/cudart_stub.cc:31] Could not find cuda drivers on your machine, GPU will not be used.\n",
      "2023-12-29 12:18:14.726679: E external/local_xla/xla/stream_executor/cuda/cuda_dnn.cc:9261] Unable to register cuDNN factory: Attempting to register factory for plugin cuDNN when one has already been registered\n",
      "2023-12-29 12:18:14.726781: E external/local_xla/xla/stream_executor/cuda/cuda_fft.cc:607] Unable to register cuFFT factory: Attempting to register factory for plugin cuFFT when one has already been registered\n",
      "2023-12-29 12:18:14.800535: E external/local_xla/xla/stream_executor/cuda/cuda_blas.cc:1515] Unable to register cuBLAS factory: Attempting to register factory for plugin cuBLAS when one has already been registered\n",
      "2023-12-29 12:18:14.972234: I external/local_tsl/tsl/cuda/cudart_stub.cc:31] Could not find cuda drivers on your machine, GPU will not be used.\n",
      "2023-12-29 12:18:16.682348: W tensorflow/compiler/tf2tensorrt/utils/py_utils.cc:38] TF-TRT Warning: Could not find TensorRT\n"
     ]
    }
   ],
   "source": [
    "import tensorflow as tf\n",
    "from tensorflow import keras\n",
    "import numpy as np\n",
    "from matplotlib import pyplot\n",
    "from keras.models import model_from_json"
   ]
  },
  {
   "cell_type": "code",
   "execution_count": 2,
   "id": "93d3031b-4533-4aec-a39f-02e28c2e70a7",
   "metadata": {},
   "outputs": [
    {
     "data": {
      "text/plain": [
       "(60000, 28, 28)"
      ]
     },
     "execution_count": 2,
     "metadata": {},
     "output_type": "execute_result"
    }
   ],
   "source": [
    "(train_x, train_y), (test_x, test_y) = keras.datasets.mnist.load_data()\n",
    "train_x = train_x / 255.0\n",
    "test_x = test_x / 255.0\n",
    "train_x.shape"
   ]
  },
  {
   "cell_type": "code",
   "execution_count": 3,
   "id": "f25fabb6-19d5-49a4-9598-085544a8aab2",
   "metadata": {},
   "outputs": [
    {
     "name": "stderr",
     "output_type": "stream",
     "text": [
      "2023-12-29 12:18:29.188568: I external/local_xla/xla/stream_executor/cuda/cuda_executor.cc:901] successful NUMA node read from SysFS had negative value (-1), but there must be at least one NUMA node, so returning NUMA node zero. See more at https://github.com/torvalds/linux/blob/v6.0/Documentation/ABI/testing/sysfs-bus-pci#L344-L355\n",
      "2023-12-29 12:18:29.246182: W tensorflow/core/common_runtime/gpu/gpu_device.cc:2256] Cannot dlopen some GPU libraries. Please make sure the missing libraries mentioned above are installed properly if you would like to use GPU. Follow the guide at https://www.tensorflow.org/install/gpu for how to download and setup the required libraries for your platform.\n",
      "Skipping registering GPU devices...\n"
     ]
    },
    {
     "data": {
      "text/plain": [
       "TensorShape([60000, 28, 28, 1])"
      ]
     },
     "execution_count": 3,
     "metadata": {},
     "output_type": "execute_result"
    }
   ],
   "source": [
    "train_x = tf.expand_dims(train_x, 3)\n",
    "test_x = tf.expand_dims(test_x, 3)\n",
    "val_x = train_x[:5000]\n",
    "val_y = train_y[:5000]\n",
    "train_x.shape"
   ]
  },
  {
   "cell_type": "code",
   "execution_count": 4,
   "id": "932346b8-8227-448e-aa93-8912ca971962",
   "metadata": {},
   "outputs": [],
   "source": [
    "lenet_5_model = keras.models.Sequential([\n",
    "    keras.layers.Conv2D(6, kernel_size=5, strides=1,  activation='tanh', input_shape=train_x[0].shape, padding='same'), #C1\n",
    "    keras.layers.AveragePooling2D(), #S2\n",
    "    keras.layers.Conv2D(16, kernel_size=5, strides=1, activation='tanh', padding='valid'), #C3\n",
    "    keras.layers.AveragePooling2D(), #S4\n",
    "    keras.layers.Flatten(), #Flatten\n",
    "    keras.layers.Dense(120, activation='tanh'), #C5\n",
    "    keras.layers.Dense(84, activation='tanh'), #F6\n",
    "    keras.layers.Dense(10, activation='softmax') #Output layer\n",
    "])"
   ]
  },
  {
   "cell_type": "code",
   "execution_count": 5,
   "id": "0f9c7fb0-964d-4279-8347-1533097d7c66",
   "metadata": {},
   "outputs": [],
   "source": [
    "lenet_5_model.compile(optimizer='adam',loss=keras.losses.sparse_categorical_crossentropy, metrics=['accuracy'])"
   ]
  },
  {
   "cell_type": "code",
   "execution_count": 6,
   "id": "c1dadc66-075f-4398-9849-4dc87647163f",
   "metadata": {},
   "outputs": [
    {
     "name": "stdout",
     "output_type": "stream",
     "text": [
      "Epoch 1/5\n",
      "1875/1875 [==============================] - 13s 6ms/step - loss: 0.2246 - accuracy: 0.9330 - val_loss: 0.0861 - val_accuracy: 0.9750\n",
      "Epoch 2/5\n",
      "1875/1875 [==============================] - 12s 6ms/step - loss: 0.0866 - accuracy: 0.9732 - val_loss: 0.0552 - val_accuracy: 0.9832\n",
      "Epoch 3/5\n",
      "1875/1875 [==============================] - 12s 6ms/step - loss: 0.0581 - accuracy: 0.9817 - val_loss: 0.0410 - val_accuracy: 0.9880\n",
      "Epoch 4/5\n",
      "1875/1875 [==============================] - 12s 6ms/step - loss: 0.0450 - accuracy: 0.9859 - val_loss: 0.0343 - val_accuracy: 0.9900\n",
      "Epoch 5/5\n",
      "1875/1875 [==============================] - 12s 6ms/step - loss: 0.0360 - accuracy: 0.9887 - val_loss: 0.0294 - val_accuracy: 0.9908\n"
     ]
    },
    {
     "data": {
      "text/plain": [
       "<keras.src.callbacks.History at 0x7f72c54bbf10>"
      ]
     },
     "execution_count": 6,
     "metadata": {},
     "output_type": "execute_result"
    }
   ],
   "source": [
    "lenet_5_model.fit(train_x, train_y, epochs=5, validation_data=(val_x, val_y))"
   ]
  },
  {
   "cell_type": "code",
   "execution_count": 7,
   "id": "b9886896-43dc-4831-a595-7f040928b87f",
   "metadata": {},
   "outputs": [
    {
     "name": "stdout",
     "output_type": "stream",
     "text": [
      "313/313 [==============================] - 1s 3ms/step - loss: 0.0527 - accuracy: 0.9833\n"
     ]
    },
    {
     "data": {
      "text/plain": [
       "[0.052743371576070786, 0.983299970626831]"
      ]
     },
     "execution_count": 7,
     "metadata": {},
     "output_type": "execute_result"
    }
   ],
   "source": [
    "lenet_5_model.evaluate(test_x, test_y)"
   ]
  },
  {
   "cell_type": "code",
   "execution_count": 8,
   "id": "e6e8ca62-f863-4e73-acac-25cd7c8d91f9",
   "metadata": {},
   "outputs": [
    {
     "data": {
      "image/png": "[encoded data removed]",
      "text/plain": [
       "<Figure size 640x480 with 1 Axes>"
      ]
     },
     "metadata": {},
     "output_type": "display_data"
    },
    {
     "data": {
      "image/png": "[encoded data removed]",
      "text/plain": [
       "<Figure size 640x480 with 1 Axes>"
      ]
     },
     "metadata": {},
     "output_type": "display_data"
    },
    {
     "data": {
      "image/png": "[encoded data removed]",
      "text/plain": [
       "<Figure size 640x480 with 1 Axes>"
      ]
     },
     "metadata": {},
     "output_type": "display_data"
    }
   ],
   "source": [
    "for i in range(3):  \n",
    "    pyplot.subplot(330 + 1 + i)\n",
    "    pyplot.imshow(train_x[i], cmap=pyplot.get_cmap('gray'))\n",
    "    pyplot.show()"
   ]
  },
  {
   "cell_type": "code",
   "execution_count": 10,
   "id": "329cc15c-9b02-462d-b4e3-5b9d4c765bd8",
   "metadata": {},
   "outputs": [
    {
     "name": "stdout",
     "output_type": "stream",
     "text": [
      "INFO:tensorflow:Assets written to: lenet_5_model/assets\n"
     ]
    },
    {
     "name": "stderr",
     "output_type": "stream",
     "text": [
      "INFO:tensorflow:Assets written to: lenet_5_model/assets\n"
     ]
    },
    {
     "name": "stdout",
     "output_type": "stream",
     "text": [
      "['saved_model.pb', 'fingerprint.pb', 'variables', 'keras_metadata.pb', 'assets']\n"
     ]
    }
   ],
   "source": [
    "import os\n",
    "lenet_5_model.save('lenet_5_model')\n",
    "print(os.listdir('lenet_5_model'))"
   ]
  },
  {
   "cell_type": "code",
   "execution_count": 11,
   "id": "d883f56b-b134-4d81-aedb-1a0213cf2e5a",
   "metadata": {},
   "outputs": [
    {
     "name": "stderr",
     "output_type": "stream",
     "text": [
      "/users/jerelanc51/.local/lib/python3.10/site-packages/keras/src/engine/training.py:3103: UserWarning: You are saving your model as an HDF5 file via `model.save()`. This file format is considered legacy. We recommend using instead the native Keras format, e.g. `model.save('my_model.keras')`.\n",
      "  saving_api.save_model(\n"
     ]
    }
   ],
   "source": [
    "lenet_5_model.save(\"my.h5\")"
   ]
  },
  {
   "cell_type": "code",
   "execution_count": 12,
   "id": "e4039b16-8b65-4686-8e77-d8933555c2b1",
   "metadata": {},
   "outputs": [
    {
     "name": "stdout",
     "output_type": "stream",
     "text": [
      "Model: \"sequential\"\n",
      "_________________________________________________________________\n",
      " Layer (type)                Output Shape              Param #   \n",
      "=================================================================\n",
      " conv2d (Conv2D)             (None, 28, 28, 6)         156       \n",
      "                                                                 \n",
      " average_pooling2d (Average  (None, 14, 14, 6)         0         \n",
      " Pooling2D)                                                      \n",
      "                                                                 \n",
      " conv2d_1 (Conv2D)           (None, 10, 10, 16)        2416      \n",
      "                                                                 \n",
      " average_pooling2d_1 (Avera  (None, 5, 5, 16)          0         \n",
      " gePooling2D)                                                    \n",
      "                                                                 \n",
      " flatten (Flatten)           (None, 400)               0         \n",
      "                                                                 \n",
      " dense (Dense)               (None, 120)               48120     \n",
      "                                                                 \n",
      " dense_1 (Dense)             (None, 84)                10164     \n",
      "                                                                 \n",
      " dense_2 (Dense)             (None, 10)                850       \n",
      "                                                                 \n",
      "=================================================================\n",
      "Total params: 61706 (241.04 KB)\n",
      "Trainable params: 61706 (241.04 KB)\n",
      "Non-trainable params: 0 (0.00 Byte)\n",
      "_________________________________________________________________\n"
     ]
    }
   ],
   "source": [
    "lenet_5_model.summary()"
   ]
  },
  {
   "cell_type": "code",
   "execution_count": 13,
   "id": "24d1a878-c7a2-4688-9dca-35ab8c5edd2c",
   "metadata": {},
   "outputs": [],
   "source": [
    "json_model = lenet_5_model.to_json()"
   ]
  },
  {
   "cell_type": "code",
   "execution_count": 14,
   "id": "c3a3b789-e537-4677-931e-6688b2786be7",
   "metadata": {},
   "outputs": [],
   "source": [
    "with open('fashionmnist_model.json', 'w') as json_file:\n",
    "    json_file.write(json_model)"
   ]
  },
  {
   "cell_type": "code",
   "execution_count": 15,
   "id": "14bd5eec-4991-4eed-ac6e-4d6d126a167d",
   "metadata": {},
   "outputs": [],
   "source": [
    "lenet_5_model.save_weights('FashionMNIST_weights.h5')"
   ]
  },
  {
   "cell_type": "code",
   "execution_count": 16,
   "id": "929aed57-808a-4df6-a9f7-ce9eec9d4ba1",
   "metadata": {},
   "outputs": [
    {
     "data": {
      "text/plain": [
       "array([[[[-0.13714084,  0.13486354,  0.2304422 ,  0.02280336,\n",
       "           0.365985  ,  0.19064447]],\n",
       "\n",
       "        [[-0.04342121,  0.30351105,  0.01372257,  0.2705549 ,\n",
       "          -0.0875043 , -0.02204625]],\n",
       "\n",
       "        [[-0.17906316,  0.3363505 , -0.28726694,  0.35732907,\n",
       "          -0.3026746 , -0.05464843]],\n",
       "\n",
       "        [[-0.01997118,  0.30193248,  0.1653042 ,  0.5296035 ,\n",
       "          -0.36057377, -0.20056605]],\n",
       "\n",
       "        [[-0.1659393 ,  0.43037072,  0.3046915 ,  0.2976536 ,\n",
       "           0.07538134, -0.03316339]]],\n",
       "\n",
       "\n",
       "       [[[-0.29163733,  0.168157  ,  0.36954522,  0.08370922,\n",
       "           0.17344312,  0.17990611]],\n",
       "\n",
       "        [[-0.1437066 ,  0.14747779,  0.7317615 ,  0.17015283,\n",
       "          -0.01340501, -0.07238527]],\n",
       "\n",
       "        [[ 0.28792575,  0.13093261,  0.7408417 ,  0.55368793,\n",
       "          -0.5681005 , -0.23362015]],\n",
       "\n",
       "        [[ 0.22234207,  0.06587148,  0.39571825,  0.5098214 ,\n",
       "          -0.28846985, -0.5252179 ]],\n",
       "\n",
       "        [[-0.07561682,  0.06418239,  0.3804396 ,  0.33028647,\n",
       "          -0.04206531, -0.41179866]]],\n",
       "\n",
       "\n",
       "       [[[-0.17935447, -0.00205162,  0.37534595,  0.10323529,\n",
       "           0.21647343,  0.12054339]],\n",
       "\n",
       "        [[ 0.3324463 , -0.02046917,  0.33982092, -0.10688914,\n",
       "          -0.33588853, -0.06386188]],\n",
       "\n",
       "        [[ 0.4712135 , -0.25812972,  0.43539435,  0.24982408,\n",
       "          -0.6955465 , -0.42097136]],\n",
       "\n",
       "        [[ 0.0885684 , -0.09830537,  0.36349887, -0.06804513,\n",
       "          -0.4099216 , -0.38514608]],\n",
       "\n",
       "        [[-0.16103375,  0.04674213,  0.02050297, -0.2347223 ,\n",
       "           0.30179775, -0.3191439 ]]],\n",
       "\n",
       "\n",
       "       [[[-0.00221016, -0.15651779, -0.00816524, -0.12323467,\n",
       "           0.25764692,  0.32858565]],\n",
       "\n",
       "        [[ 0.24886613, -0.13784787,  0.15488312, -0.06716132,\n",
       "          -0.27778664,  0.01577099]],\n",
       "\n",
       "        [[ 0.50344265, -0.577265  ,  0.10169341, -0.31720468,\n",
       "          -0.75941604,  0.09014728]],\n",
       "\n",
       "        [[ 0.18446538, -0.59499043,  0.05931576, -0.37270007,\n",
       "          -0.10018072, -0.09927848]],\n",
       "\n",
       "        [[-0.17775056, -0.44088203, -0.03680498, -0.229691  ,\n",
       "           0.07750651, -0.03519233]]],\n",
       "\n",
       "\n",
       "       [[[-0.191544  , -0.14456813, -0.26839265, -0.21017927,\n",
       "          -0.12809962,  0.3466607 ]],\n",
       "\n",
       "        [[ 0.26395264, -0.27433825, -0.3191438 , -0.1158981 ,\n",
       "          -0.48242602,  0.37483528]],\n",
       "\n",
       "        [[-0.13747008, -0.23461604, -0.30936024, -0.2829326 ,\n",
       "          -0.451803  ,  0.00693861]],\n",
       "\n",
       "        [[-0.09674688, -0.35936666, -0.34064206, -0.11362992,\n",
       "           0.12848078,  0.36482626]],\n",
       "\n",
       "        [[-0.06427186, -0.28236446, -0.4271199 , -0.28538665,\n",
       "           0.42265376,  0.39011642]]]], dtype=float32)"
      ]
     },
     "execution_count": 16,
     "metadata": {},
     "output_type": "execute_result"
    }
   ],
   "source": [
    "lenet_5_model.layers[0].get_weights()[0]"
   ]
  },
  {
   "cell_type": "code",
   "execution_count": 1,
   "id": "f4f91f15",
   "metadata": {},
   "outputs": [
    {
     "name": "stdout",
     "output_type": "stream",
     "text": [
      "Structure du fichier 'FashionMNIST_weights.h5':\n",
      "Group: average_pooling2d\n",
      "Group: average_pooling2d_1\n",
      "Group: conv2d\n",
      "  Group: conv2d\n",
      "    Dataset: bias:0\n",
      "    Dataset: kernel:0\n",
      "Group: conv2d_1\n",
      "  Group: conv2d_1\n",
      "    Dataset: bias:0\n",
      "    Dataset: kernel:0\n",
      "Group: dense\n",
      "  Group: dense\n",
      "    Dataset: bias:0\n",
      "    Dataset: kernel:0\n",
      "Group: dense_1\n",
      "  Group: dense_1\n",
      "    Dataset: bias:0\n",
      "    Dataset: kernel:0\n",
      "Group: dense_2\n",
      "  Group: dense_2\n",
      "    Dataset: bias:0\n",
      "    Dataset: kernel:0\n",
      "Group: flatten\n",
      "Group: top_level_model_weights\n"
     ]
    }
   ],
   "source": [
    "import h5py\n",
    "\n",
    "def print_h5_structure(group, level=0):\n",
    "    for key in group.keys():\n",
    "        if isinstance(group[key], h5py.Group):\n",
    "            print(\"  \" * level + f\"Group: {key}\")\n",
    "            print_h5_structure(group[key], level + 1)\n",
    "        else:\n",
    "            print(\"  \" * level + f\"Dataset: {key}\")\n",
    "\n",
    "# Chemin vers le fichier 'FashionMNIST_weights.h5'\n",
    "file_path = 'FashionMNIST_weights.h5'\n",
    "\n",
    "# Ouverture du fichier et affichage de sa structure\n",
    "with h5py.File(file_path, 'r') as file:\n",
    "    print(f\"Structure du fichier '{file_path}':\")\n",
    "    print_h5_structure(file)"
   ]
  },
  {
   "cell_type": "code",
   "execution_count": 9,
   "id": "3b38d5df",
   "metadata": {},
   "outputs": [
    {
     "name": "stdout",
     "output_type": "stream",
     "text": [
      "0.12062832\n",
      "-0.02616173\n",
      "0.11132323\n",
      "0.08578582\n",
      "0.03999492\n",
      "0.03269307\n",
      "0.08759674\n",
      "-0.01195360\n",
      "0.02015924\n",
      "-0.03728926\n",
      "0.01268766\n",
      "0.16808067\n",
      "0.02583580\n",
      "0.00655555\n",
      "0.08373650\n",
      "0.07771134\n",
      "0.08610599\n",
      "-0.08548454\n",
      "-0.04822709\n",
      "-0.02967518\n",
      "-0.14999875\n",
      "0.00159598\n",
      "-0.06931330\n",
      "-0.04590986\n",
      "0.01454780\n",
      "0.01004641\n",
      "-0.01065788\n",
      "0.05867185\n",
      "-0.08101764\n",
      "0.11183584\n",
      "-0.01117358\n",
      "0.05436333\n",
      "-0.03720354\n",
      "-0.01011585\n",
      "-0.03132659\n",
      "0.07058787\n",
      "0.09933422\n",
      "0.00219762\n",
      "0.04446469\n",
      "-0.07762651\n",
      "0.09302323\n",
      "0.12878504\n",
      "0.01350944\n",
      "-0.03052644\n",
      "0.03773532\n",
      "-0.00351415\n",
      "-0.08447547\n",
      "0.06373137\n",
      "0.01924211\n",
      "0.11919630\n",
      "-0.07332914\n",
      "0.05221489\n",
      "-0.07747386\n",
      "-0.00130669\n",
      "-0.02524254\n",
      "0.04103067\n",
      "-0.07534125\n",
      "0.05483909\n",
      "-0.03544114\n",
      "0.04144220\n",
      "0.08583789\n",
      "-0.06268773\n",
      "0.03992786\n",
      "-0.00740443\n",
      "-0.09590975\n",
      "-0.06468948\n",
      "0.00612502\n",
      "0.02787416\n",
      "0.02751214\n",
      "-0.02832073\n",
      "0.03209975\n",
      "0.10796253\n",
      "-0.04779265\n",
      "-0.00978532\n",
      "-0.05342890\n",
      "0.02049347\n",
      "0.00875976\n",
      "-0.05024499\n",
      "0.02919422\n",
      "0.05368897\n",
      "0.03948538\n",
      "0.04716368\n",
      "-0.07211915\n",
      "0.01247444\n",
      "-0.01439372\n",
      "-0.03890153\n",
      "0.00026751\n",
      "-0.05363169\n",
      "0.06485771\n",
      "-0.00517703\n",
      "-0.10740262\n",
      "-0.04975405\n",
      "0.01677232\n",
      "-0.04865732\n",
      "-0.01762013\n",
      "0.11601625\n",
      "-0.02684401\n",
      "-0.02801546\n",
      "0.01119752\n",
      "0.05790289\n",
      "-0.00507388\n",
      "-0.05621316\n",
      "0.08771683\n",
      "0.03876426\n",
      "-0.03384645\n",
      "-0.03593160\n",
      "0.05899291\n",
      "-0.04225243\n",
      "0.07616798\n",
      "-0.05498965\n",
      "-0.00955967\n",
      "0.05035023\n",
      "-0.00744721\n",
      "0.01939978\n",
      "-0.01888494\n",
      "-0.10814101\n",
      "-0.06681573\n",
      "0.13288851\n",
      "0.10516610\n",
      "0.00777822\n"
     ]
    }
   ],
   "source": [
    "import h5py\n",
    "\n",
    "# Chemin vers le fichier HDF5 contenant les poids\n",
    "file_path = 'FashionMNIST_weights.h5'\n",
    "\n",
    "with h5py.File(file_path, 'r') as file:\n",
    "    conv2d_group = file['dense/dense']\n",
    "    kernel_values = conv2d_group['bias:0'][:]\n",
    "\n",
    "    # Afficher chaque valeur avec une troncature à 8 digits et revenir à la ligne après chaque valeur\n",
    "    for value in kernel_values.flatten():\n",
    "        print(f\"{value:.8f}\")"
   ]
  }
 ],
 "metadata": {
  "kernelspec": {
   "display_name": "Python 3 (ipykernel)",
   "language": "python",
   "name": "python3"
  },
  "language_info": {
   "codemirror_mode": {
    "name": "ipython",
    "version": 3
   },
   "file_extension": ".py",
   "mimetype": "text/x-python",
   "name": "python",
   "nbconvert_exporter": "python",
   "pygments_lexer": "ipython3",
   "version": "3.10.12"
  }
 },
 "nbformat": 4,
 "nbformat_minor": 5
}
